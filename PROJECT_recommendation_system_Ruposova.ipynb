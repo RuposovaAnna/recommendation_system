{
 "cells": [
  {
   "cell_type": "code",
   "execution_count": 1,
   "metadata": {},
   "outputs": [],
   "source": [
    "#импортируем все необходимые библиотеки для дальнейшего анализа\n",
    "import pandas as pd\n",
    "import numpy as np\n",
    "from collections import Counter\n",
    "import itertools as r \n",
    "import psycopg2\n",
    "import psycopg2.extras \n",
    "import random"
   ]
  },
  {
   "cell_type": "markdown",
   "metadata": {},
   "source": [
    "# Подготовка данных с помощью SQL\n",
    "---\n",
    "> При помощи **SQL** подготовим данные с информацией по продажам курсов на каждого пользователя, который приобрел более одного курса. \n",
    "\n",
    " "
   ]
  },
  {
   "cell_type": "code",
   "execution_count": 2,
   "metadata": {},
   "outputs": [],
   "source": [
    "#чтобы отфильтровать пользователей, которые приобрели более 1-го курса я обралилась к конструкции СТЕ\n",
    "#в первой части кода я подготовила подзапрос, где вывела уникальных пользователей (group by), \n",
    "#купивших (where) более 1-го курса (having)   \n",
    "#далее, соединив получившийся запрос с двумя основными таблицами, вывела id-пользователей и id-курсов\n",
    "def get_data():\n",
    "    query ='''\n",
    "    WITH users_grouped AS\n",
    "( SELECT  c.user_id,\n",
    "        COUNT (ci.resource_id) AS courses_counted\n",
    "    FROM final.carts c\n",
    "    JOIN final.cart_items ci\n",
    "    ON c.id = ci.cart_id \n",
    "    WHERE ci.resource_type = 'Course' AND c.state = 'successful' \n",
    "    GROUP BY  c.user_id\n",
    "    HAVING COUNT (DISTINCT ci.resource_id) > 1)\n",
    "SELECT  DISTINCT ug.user_id,\n",
    "        ci2.resource_id\n",
    "FROM final.carts AS c2\n",
    "JOIN final.cart_items AS ci2\n",
    "ON ci2.cart_id = c2.id\n",
    "JOIN users_grouped AS ug\n",
    "ON c2.user_id = ug.user_id\n",
    "WHERE c2.state = 'successful'\n",
    "    AND ci2.resource_type = 'Course'\n",
    "ORDER BY ug.user_id, ci2.resource_id\n",
    "    '''\n",
    "    conn = psycopg2.connect(\"dbname='skillfactory' user='skillfactory' \\\n",
    "    host='84.201.134.129' password='cCkxxLVrDE8EbvjueeMedPKt' port=5432\")\n",
    "    dict_cur = conn.cursor(cursor_factory=psycopg2.extras.DictCursor)\n",
    "    dict_cur.execute(query)\n",
    "    rows = dict_cur.fetchall()\n",
    "    data = []\n",
    "    for row in rows:\n",
    "        data.append(dict(row))\n",
    "    return data\n",
    "df_courses = pd.DataFrame(get_data())"
   ]
  },
  {
   "cell_type": "markdown",
   "metadata": {},
   "source": [
    "## Итоговая таблица `COURSES`"
   ]
  },
  {
   "cell_type": "code",
   "execution_count": 3,
   "metadata": {},
   "outputs": [
    {
     "data": {
      "text/html": [
       "<div>\n",
       "<style scoped>\n",
       "    .dataframe tbody tr th:only-of-type {\n",
       "        vertical-align: middle;\n",
       "    }\n",
       "\n",
       "    .dataframe tbody tr th {\n",
       "        vertical-align: top;\n",
       "    }\n",
       "\n",
       "    .dataframe thead th {\n",
       "        text-align: right;\n",
       "    }\n",
       "</style>\n",
       "<table border=\"1\" class=\"dataframe\">\n",
       "  <thead>\n",
       "    <tr style=\"text-align: right;\">\n",
       "      <th></th>\n",
       "      <th>user_id</th>\n",
       "      <th>resource_id</th>\n",
       "    </tr>\n",
       "  </thead>\n",
       "  <tbody>\n",
       "    <tr>\n",
       "      <th>0</th>\n",
       "      <td>51</td>\n",
       "      <td>516</td>\n",
       "    </tr>\n",
       "    <tr>\n",
       "      <th>1</th>\n",
       "      <td>51</td>\n",
       "      <td>1099</td>\n",
       "    </tr>\n",
       "    <tr>\n",
       "      <th>2</th>\n",
       "      <td>6117</td>\n",
       "      <td>356</td>\n",
       "    </tr>\n",
       "    <tr>\n",
       "      <th>3</th>\n",
       "      <td>6117</td>\n",
       "      <td>357</td>\n",
       "    </tr>\n",
       "    <tr>\n",
       "      <th>4</th>\n",
       "      <td>6117</td>\n",
       "      <td>1125</td>\n",
       "    </tr>\n",
       "  </tbody>\n",
       "</table>\n",
       "</div>"
      ],
      "text/plain": [
       "   user_id  resource_id\n",
       "0       51          516\n",
       "1       51         1099\n",
       "2     6117          356\n",
       "3     6117          357\n",
       "4     6117         1125"
      ]
     },
     "execution_count": 3,
     "metadata": {},
     "output_type": "execute_result"
    }
   ],
   "source": [
    "df_courses.head()"
   ]
  },
  {
   "cell_type": "markdown",
   "metadata": {},
   "source": [
    "# Обработка данных \n",
    "---\n",
    "> Чтобы грамотно построить реккомендационную систему, нам необходимо привести данные к нужному виду. Как исход, мы должны получить **список уникальных курсов и словарь**, где ключами будут являться пары из списков, а значениями частотность."
   ]
  },
  {
   "cell_type": "markdown",
   "metadata": {},
   "source": [
    "Посмотрим на **количество уникальных курсов**, которые получились у нас в датасете выше: "
   ]
  },
  {
   "cell_type": "code",
   "execution_count": 4,
   "metadata": {},
   "outputs": [
    {
     "name": "stdout",
     "output_type": "stream",
     "text": [
      "Всего различных курсов, для которых стоит построить реккомендации: 126\n"
     ]
    }
   ],
   "source": [
    "#создаем список уникальных курсов, который далее нам понадобится для создания итоговой таблицы с реккомендациями \n",
    "unq_courses = df_courses['resource_id'].unique()\n",
    "print('Всего различных курсов, для которых стоит построить реккомендации:', len(unq_courses))"
   ]
  },
  {
   "cell_type": "markdown",
   "metadata": {},
   "source": [
    "Создаем датасет со списком всех **уникальных курсов, в разрезе по пользователю,** в последнем столбце (set)."
   ]
  },
  {
   "cell_type": "code",
   "execution_count": 5,
   "metadata": {},
   "outputs": [
    {
     "data": {
      "text/html": [
       "<div>\n",
       "<style scoped>\n",
       "    .dataframe tbody tr th:only-of-type {\n",
       "        vertical-align: middle;\n",
       "    }\n",
       "\n",
       "    .dataframe tbody tr th {\n",
       "        vertical-align: top;\n",
       "    }\n",
       "\n",
       "    .dataframe thead th {\n",
       "        text-align: right;\n",
       "    }\n",
       "</style>\n",
       "<table border=\"1\" class=\"dataframe\">\n",
       "  <thead>\n",
       "    <tr style=\"text-align: right;\">\n",
       "      <th></th>\n",
       "      <th>nunique</th>\n",
       "      <th>set</th>\n",
       "    </tr>\n",
       "    <tr>\n",
       "      <th>user_id</th>\n",
       "      <th></th>\n",
       "      <th></th>\n",
       "    </tr>\n",
       "  </thead>\n",
       "  <tbody>\n",
       "    <tr>\n",
       "      <th>694146</th>\n",
       "      <td>19</td>\n",
       "      <td>{515, 1156, 776, 523, 907, 908, 909, 670, 552,...</td>\n",
       "    </tr>\n",
       "    <tr>\n",
       "      <th>953401</th>\n",
       "      <td>18</td>\n",
       "      <td>{514, 515, 741, 518, 519, 551, 552, 490, 523, ...</td>\n",
       "    </tr>\n",
       "    <tr>\n",
       "      <th>1050532</th>\n",
       "      <td>18</td>\n",
       "      <td>{864, 551, 552, 489, 679, 363, 523, 776, 366, ...</td>\n",
       "    </tr>\n",
       "    <tr>\n",
       "      <th>992470</th>\n",
       "      <td>17</td>\n",
       "      <td>{514, 515, 517, 518, 519, 551, 489, 552, 523, ...</td>\n",
       "    </tr>\n",
       "    <tr>\n",
       "      <th>722252</th>\n",
       "      <td>17</td>\n",
       "      <td>{514, 515, 357, 551, 489, 490, 523, 829, 908, ...</td>\n",
       "    </tr>\n",
       "  </tbody>\n",
       "</table>\n",
       "</div>"
      ],
      "text/plain": [
       "         nunique                                                set\n",
       "user_id                                                            \n",
       "694146        19  {515, 1156, 776, 523, 907, 908, 909, 670, 552,...\n",
       "953401        18  {514, 515, 741, 518, 519, 551, 552, 490, 523, ...\n",
       "1050532       18  {864, 551, 552, 489, 679, 363, 523, 776, 366, ...\n",
       "992470        17  {514, 515, 517, 518, 519, 551, 489, 552, 523, ...\n",
       "722252        17  {514, 515, 357, 551, 489, 490, 523, 829, 908, ..."
      ]
     },
     "execution_count": 5,
     "metadata": {},
     "output_type": "execute_result"
    }
   ],
   "source": [
    "df_usr_crs = df_courses.groupby('user_id')['resource_id'].agg(\n",
    "        ['nunique', set]\n",
    ").sort_values(by='nunique', ascending=False)\n",
    "df_usr_crs.head()"
   ]
  },
  {
   "cell_type": "markdown",
   "metadata": {},
   "source": [
    "Далее приступим к разбивкe курсов на возможные **пары** по каждому пользователю:"
   ]
  },
  {
   "cell_type": "code",
   "execution_count": 6,
   "metadata": {},
   "outputs": [
    {
     "data": {
      "text/plain": [
       "user_id\n",
       "694146     [(489, 490), (489, 515), (489, 523), (489, 552...\n",
       "953401     [(490, 502), (490, 514), (490, 515), (490, 518...\n",
       "1050532    [(363, 366), (363, 489), (363, 502), (363, 511...\n",
       "992470     [(489, 502), (489, 514), (489, 515), (489, 517...\n",
       "722252     [(357, 366), (357, 489), (357, 490), (357, 502...\n",
       "109035     [(517, 523), (517, 551), (517, 564), (517, 571...\n",
       "565025     [(366, 517), (366, 519), (366, 523), (366, 551...\n",
       "698038     [(489, 504), (489, 515), (489, 523), (489, 552...\n",
       "1017561    [(363, 489), (363, 502), (363, 511), (363, 515...\n",
       "1139935    [(489, 502), (489, 504), (489, 514), (489, 515...\n",
       "Name: set, dtype: object"
      ]
     },
     "execution_count": 6,
     "metadata": {},
     "output_type": "execute_result"
    }
   ],
   "source": [
    "#применяем к столбцу 'set' lambda-функцию с методом combinations(), \n",
    "#и получаем уникальные комбинации из элементов множества\n",
    "course_pairs = df_usr_crs['set'].apply(lambda x: list(r.combinations(sorted(x), 2)))\n",
    "course_pairs[:10]"
   ]
  },
  {
   "cell_type": "markdown",
   "metadata": {},
   "source": [
    "Далее нам понадобятся только **все пары**, полученные в предыдущем действии, в виде списка:"
   ]
  },
  {
   "cell_type": "code",
   "execution_count": 7,
   "metadata": {},
   "outputs": [
    {
     "data": {
      "text/plain": [
       "[(489, 490),\n",
       " (489, 515),\n",
       " (489, 523),\n",
       " (489, 552),\n",
       " (489, 564),\n",
       " (489, 566),\n",
       " (489, 670),\n",
       " (489, 764),\n",
       " (489, 776),\n",
       " (489, 809)]"
      ]
     },
     "execution_count": 7,
     "metadata": {},
     "output_type": "execute_result"
    }
   ],
   "source": [
    "#создаем пустой список и в него, с помощью итерации, добавляем кортежи с парами id-курсов\n",
    "courses_list = []\n",
    "for crs in course_pairs.values:\n",
    "    for elem in crs: \n",
    "        courses_list.append(elem)\n",
    "courses_list[:10]"
   ]
  },
  {
   "cell_type": "code",
   "execution_count": 8,
   "metadata": {},
   "outputs": [],
   "source": [
    "#при помощи счетчика Counter() подсчитаем сколько раз нам встречаются различные пары  \n",
    "counter_courses = Counter(courses_list)\n",
    "#преобразуем получившийся объект в словарь с которым будем работать в дальнейшем \n",
    "dict_counter = dict(counter_courses)"
   ]
  },
  {
   "cell_type": "markdown",
   "metadata": {},
   "source": [
    "В итоге мы получаем ***словарь `\"dict_counter\"`***, который имеет следующий вид: \n",
    "\n",
    "---\n",
    ">***{(id-course_1, id_course_2): count, ..}*** - где ключом является список из пар курсов, а значением выступает количество встреч данной пары в предыдущем списке (courses_list)"
   ]
  },
  {
   "cell_type": "markdown",
   "metadata": {},
   "source": [
    "# Подготовка к составлению итоговой таблицы\n",
    "---\n",
    ">Необходимо определить **минимальное значение** частотности курсов для реккомендации и **подготовить данные** для составления итоговой таблицы. "
   ]
  },
  {
   "cell_type": "markdown",
   "metadata": {},
   "source": [
    "Рассмотрим **частотность** встречающихся редких пар курсов: "
   ]
  },
  {
   "cell_type": "code",
   "execution_count": 9,
   "metadata": {},
   "outputs": [
    {
     "data": {
      "text/plain": [
       "1     1185\n",
       "2      578\n",
       "3      366\n",
       "4      259\n",
       "5      202\n",
       "7      148\n",
       "6      148\n",
       "8       95\n",
       "10      87\n",
       "9       80\n",
       "Name: frequency, dtype: int64"
      ]
     },
     "execution_count": 9,
     "metadata": {},
     "output_type": "execute_result"
    }
   ],
   "source": [
    "#создаем датафрейм из значений в словаре, чтобы посмотреть на частотность встречающихся редких пар курсов\n",
    "df = pd.DataFrame(list(dict_counter.items()), columns =['pairs', 'frequency']).sort_values(by= 'frequency', \\\n",
    "                                                                          ascending = False).reset_index(drop=True)\n",
    "df['frequency'].value_counts().head(10)"
   ]
  },
  {
   "cell_type": "markdown",
   "metadata": {},
   "source": [
    "Посмотрим на **статистику:**"
   ]
  },
  {
   "cell_type": "code",
   "execution_count": 10,
   "metadata": {},
   "outputs": [
    {
     "data": {
      "text/plain": [
       "count    3989.000000\n",
       "mean       10.031838\n",
       "std        26.355998\n",
       "min         1.000000\n",
       "25%         1.000000\n",
       "50%         3.000000\n",
       "75%         9.000000\n",
       "max       797.000000\n",
       "Name: frequency, dtype: float64"
      ]
     },
     "execution_count": 10,
     "metadata": {},
     "output_type": "execute_result"
    }
   ],
   "source": [
    "df['frequency'].describe()"
   ]
  },
  {
   "cell_type": "markdown",
   "metadata": {},
   "source": [
    "Видим, что **чаще всего встречается единоразовая покупка пар курсов.** \n",
    "Также заметно, что количество продаж распределено не нормально, **есть выбросы** в виде количества проданных раз популярных курсов. \n",
    "**Медиана равна 3**. Столько в среднем встречаются уникальные пары в корзине. \n",
    "\n",
    "Теперь осталось определиться минимальным значением для выбора реккомендаций. "
   ]
  },
  {
   "cell_type": "markdown",
   "metadata": {},
   "source": [
    "Для начала нужно определиться с конкретной целью введения фичи. Исходя из слов продакт-менеджера мы выяснили, что он хочет чтобы продавались **новые курсы**, тем самым **поднять средний чек.**\n",
    "\n",
    "**Тут два момента:**\n",
    "* с одной стороны мы **не можем сказать**, как будут **продаваться** новые курсы (ведь они явно уступают по продажам популярным курсам),\n",
    "* второй момент, если **заменять** самыми популярными курсами пары, которые не так часто встречаются, то можно **не попасть** в интересы покупателя (ведь пары могут дать некую гарантию, что курсы взаимосвязаны, но не во всех случаях).\n",
    "---\n",
    "Поэтому я хочу взять за минимальную границу что-то среднее между первым и третьим квартилями : **5**\n",
    "\n",
    "Столько раз должна попадаться пара при покупке курсов для ее реккомендации."
   ]
  },
  {
   "cell_type": "code",
   "execution_count": 11,
   "metadata": {},
   "outputs": [],
   "source": [
    "#записываем в переменную значение\n",
    "min_value = 5 "
   ]
  },
  {
   "cell_type": "markdown",
   "metadata": {},
   "source": [
    "Посмотрим на количество покупок по каждому курсу и выделим **10-ку лучших.** "
   ]
  },
  {
   "cell_type": "code",
   "execution_count": 12,
   "metadata": {},
   "outputs": [
    {
     "data": {
      "text/plain": [
       "resource_id\n",
       "551    2935\n",
       "566    2342\n",
       "515    1311\n",
       "489    1125\n",
       "490    1084\n",
       "523    1053\n",
       "514     983\n",
       "794     875\n",
       "745     829\n",
       "570     720\n",
       "Name: resource_id, dtype: int64"
      ]
     },
     "execution_count": 12,
     "metadata": {},
     "output_type": "execute_result"
    }
   ],
   "source": [
    "#делаем группировку по id-курсам и считаем их же количество, сортируем по убыванию частотности \n",
    "group_rating = df_courses.groupby('resource_id')['resource_id'].count().sort_values(ascending=False)[:10]\n",
    "group_rating"
   ]
  },
  {
   "cell_type": "code",
   "execution_count": 13,
   "metadata": {},
   "outputs": [
    {
     "data": {
      "text/plain": [
       "[551, 566, 515, 489, 490, 523, 514, 794, 745, 570]"
      ]
     },
     "execution_count": 13,
     "metadata": {},
     "output_type": "execute_result"
    }
   ],
   "source": [
    "#запишем 10-ку самых востребованных курсов в список, он нам понадобится для создания итоговой таблицы \n",
    "top_courses = list(group_rating.index)\n",
    "top_courses"
   ]
  },
  {
   "cell_type": "markdown",
   "metadata": {},
   "source": [
    "Теперь посмотрим на **пары курсов**, которые прдавались чаще всего, выделим топ 10 пар:"
   ]
  },
  {
   "cell_type": "code",
   "execution_count": 14,
   "metadata": {},
   "outputs": [
    {
     "data": {
      "text/plain": [
       "[(551, 566),\n",
       " (515, 551),\n",
       " (489, 551),\n",
       " (523, 551),\n",
       " (566, 794),\n",
       " (489, 515),\n",
       " (490, 566),\n",
       " (490, 551),\n",
       " (570, 752),\n",
       " (569, 572)]"
      ]
     },
     "execution_count": 14,
     "metadata": {},
     "output_type": "execute_result"
    }
   ],
   "source": [
    "#создаем словарь, куда записываем десять пар с максимальным значением по продажам\n",
    "top_pairs = dict(counter_courses.most_common(10))\n",
    "#в новый список добавляем только пары \n",
    "#данный список нам понадобится для создания итоговой таблицы \n",
    "pairs_reccom = []\n",
    "for pair in top_pairs.keys():\n",
    "    pairs_reccom.append(pair)\n",
    "pairs_reccom"
   ]
  },
  {
   "cell_type": "markdown",
   "metadata": {},
   "source": [
    "# Составление итоговой таблицы\n",
    "---\n",
    "> * Необходимо **написать функцию** для создания списка пар под id-курсы с максимальным значением по продажам. Нам нужны всего две пары на один курс. \n",
    "> * Создать **итератор**, который будет записывать **реккомендации в итоговую таблицу.**"
   ]
  },
  {
   "cell_type": "markdown",
   "metadata": {},
   "source": [
    "***Примечание***:\n",
    "\n",
    "В создании функции предполагается, что будут учавствовать курсы, которые не встречаются в итерируемом словаре и курсы, которые встречаются в словаре парой всего один раз, а для создания реккомендаций нам нужно два курса. Поэтому итоговый список, вместо пропущенных значений, я буду заполнять топовыми курсами по продажам или парами топовых курсов, взависимости от количества пропущенных элементов. \n",
    "\n",
    "Приступим к **написанию функции**, которая должна возвращать **список пар с максимальной частотностью** для каждого уникального курса заказчика. "
   ]
  },
  {
   "cell_type": "code",
   "execution_count": 15,
   "metadata": {},
   "outputs": [],
   "source": [
    "def recommend(course_id):\n",
    "    recomm_list = [] #cоздаем список пар с частотностью под определенный запрос(id курса)\n",
    "    for i in dict_counter.keys():\n",
    "        #проверяем условие нахождения курса в словаре с парами и частотностью\n",
    "        if i[0] == course_id: \n",
    "            recomm_list.append((i, dict_counter[i]))\n",
    "        #если курса нет в словаре, добавляем пару самостоятельно, рандомно выбрав и списка пар топовых курсов \n",
    "        if course_id not in dict_counter.keys():\n",
    "            #создаем кортеж, куда записываем рандомно пару из списка топовых \n",
    "            rm = random.choice(pairs_reccom)\n",
    "            #вместо частотности добавлем минимальное значение, чтобы список прошел фильтр в коде ниже\n",
    "            recomm_list.extend([((course_id, rm[0] ), min_value)])\n",
    "            recomm_list.extend([((course_id, rm[1]), min_value)])\n",
    "    #сортируем получившийся список в порядке убывания\n",
    "    recomm_list = (sorted(recomm_list, key=lambda x: (x[:][1]), reverse = True))\n",
    "    #проверяем еще одно условие - длину получившегося списка выше, \n",
    "    #для дальнейшей корректной работы нам понадобится список состоявший из двух элементов \n",
    "    if len(recomm_list) == 1:\n",
    "        #если длина равна единице, рандомно выбираем курсу пару из списка топовых курсов\n",
    "        recomm_list.extend([((course_id, random.choice(top_courses)), min_value)])\n",
    "    #выводим список, длинной в 2 элемента\n",
    "    return recomm_list[:2]"
   ]
  },
  {
   "cell_type": "markdown",
   "metadata": {},
   "source": [
    "Приступим к написанию **итератора**, который будет записывать реккомендации в итоговую таблицу. \n",
    "\n",
    "Итоговая таблица будет состоять из **трех столбцов**:\n",
    "\n",
    ">* В первом столбце **курс**, к которому будут записаны две реккомендации (назовем этот курс **основным**), а именно:\n",
    ">* во втором столбце **реккомендация№1**, это курс который стоит в паре с основным первым в списке по частотности,\n",
    ">* в третьем столбце **реккомендация№2**, это курс который стоит вторым в паре с оновным в списке по частотности. \n",
    "\n",
    "Для курсов, чьи пары по частотности встречаются **слишком редко (менее 5 раз)**, будут записываться **пары топовых курсов** по частотности продаж или **топовые курсы** по продажам, взависимости от ситуации. "
   ]
  },
  {
   "cell_type": "code",
   "execution_count": 16,
   "metadata": {},
   "outputs": [],
   "source": [
    "#создаем пустой датафрейм, куда в дальнейшем будем записывать реккомендации  \n",
    "recommendation_table = pd.DataFrame(columns = ['current_course', 'recommend_1', 'recommend_2'])\n",
    "for i in unq_courses:\n",
    "    #проверяем условия, где частотность двух пар должна быть выше заданного мин значения\n",
    "    if  recommend(i)[0][1] >= min_value and recommend(i)[1][1] >= min_value:\n",
    "        #записываем в первый столбец текущий курс, и далее в два стобца реккомендации, идущие к данному курсу\n",
    "        new_row = {'current_course':recommend(i)[0][0][0],\\\n",
    "                   'recommend_1':recommend(i)[0][0][1],\\\n",
    "                   'recommend_2':recommend(i)[1][0][1]}\n",
    "    elif recommend(i)[0][1] < min_value and recommend(i)[1][1] >= min_value:\n",
    "        #если одна из частотности двух пар ниже минимального значения, \n",
    "        #вместо данной пары записываем рандомно выбранный курс из списка топовых курсов \n",
    "        new_row = {'current_course':recommend(i)[0][0][0],\\\n",
    "                   'recommend_1':random.choice(top_courses),\\\n",
    "                   'recommend_2':recommend(i)[1][0][1]}\n",
    "    elif recommend(i)[0][1] >= min_value and recommend(i)[1][1] < min_value:\n",
    "        new_row = {'current_course':recommend(i)[0][0][0],\\\n",
    "                   'recommend_1':recommend(i)[0][0][1],\\\n",
    "                   'recommend_2':random.choice(top_courses)}\n",
    "    #если встретился курс, у которого все пары имеют частотность ниже минимального значения,\n",
    "    #вместо данных пар в реккомендации записываем рандомно выбранные пары из списка топовых пар\n",
    "    else:\n",
    "        rm = random.choice(pairs_reccom)\n",
    "        new_row = {'current_course':recommend(i)[0][0][0],\\\n",
    "                   'recommend_1':rm[0],\\\n",
    "                   'recommend_2':rm[1]}\n",
    "    #записываем в датафрейм получившиеся строки\n",
    "    recommendation_table = recommendation_table.append(new_row, ignore_index = True)"
   ]
  },
  {
   "cell_type": "markdown",
   "metadata": {},
   "source": [
    "# Финальная таблица `recommendation_table`"
   ]
  },
  {
   "cell_type": "code",
   "execution_count": 17,
   "metadata": {},
   "outputs": [
    {
     "data": {
      "text/html": [
       "<div>\n",
       "<style scoped>\n",
       "    .dataframe tbody tr th:only-of-type {\n",
       "        vertical-align: middle;\n",
       "    }\n",
       "\n",
       "    .dataframe tbody tr th {\n",
       "        vertical-align: top;\n",
       "    }\n",
       "\n",
       "    .dataframe thead th {\n",
       "        text-align: right;\n",
       "    }\n",
       "</style>\n",
       "<table border=\"1\" class=\"dataframe\">\n",
       "  <thead>\n",
       "    <tr style=\"text-align: right;\">\n",
       "      <th></th>\n",
       "      <th>current_course</th>\n",
       "      <th>recommend_1</th>\n",
       "      <th>recommend_2</th>\n",
       "    </tr>\n",
       "  </thead>\n",
       "  <tbody>\n",
       "    <tr>\n",
       "      <th>0</th>\n",
       "      <td>516</td>\n",
       "      <td>745</td>\n",
       "      <td>553</td>\n",
       "    </tr>\n",
       "    <tr>\n",
       "      <th>1</th>\n",
       "      <td>1099</td>\n",
       "      <td>1139</td>\n",
       "      <td>1187</td>\n",
       "    </tr>\n",
       "    <tr>\n",
       "      <th>2</th>\n",
       "      <td>356</td>\n",
       "      <td>571</td>\n",
       "      <td>357</td>\n",
       "    </tr>\n",
       "    <tr>\n",
       "      <th>3</th>\n",
       "      <td>357</td>\n",
       "      <td>571</td>\n",
       "      <td>1125</td>\n",
       "    </tr>\n",
       "    <tr>\n",
       "      <th>4</th>\n",
       "      <td>1125</td>\n",
       "      <td>1186</td>\n",
       "      <td>1144</td>\n",
       "    </tr>\n",
       "    <tr>\n",
       "      <th>...</th>\n",
       "      <td>...</td>\n",
       "      <td>...</td>\n",
       "      <td>...</td>\n",
       "    </tr>\n",
       "    <tr>\n",
       "      <th>121</th>\n",
       "      <td>902</td>\n",
       "      <td>566</td>\n",
       "      <td>551</td>\n",
       "    </tr>\n",
       "    <tr>\n",
       "      <th>122</th>\n",
       "      <td>837</td>\n",
       "      <td>490</td>\n",
       "      <td>572</td>\n",
       "    </tr>\n",
       "    <tr>\n",
       "      <th>123</th>\n",
       "      <td>1200</td>\n",
       "      <td>489</td>\n",
       "      <td>551</td>\n",
       "    </tr>\n",
       "    <tr>\n",
       "      <th>124</th>\n",
       "      <td>833</td>\n",
       "      <td>523</td>\n",
       "      <td>551</td>\n",
       "    </tr>\n",
       "    <tr>\n",
       "      <th>125</th>\n",
       "      <td>830</td>\n",
       "      <td>489</td>\n",
       "      <td>572</td>\n",
       "    </tr>\n",
       "  </tbody>\n",
       "</table>\n",
       "<p>126 rows × 3 columns</p>\n",
       "</div>"
      ],
      "text/plain": [
       "    current_course recommend_1 recommend_2\n",
       "0              516         745         553\n",
       "1             1099        1139        1187\n",
       "2              356         571         357\n",
       "3              357         571        1125\n",
       "4             1125        1186        1144\n",
       "..             ...         ...         ...\n",
       "121            902         566         551\n",
       "122            837         490         572\n",
       "123           1200         489         551\n",
       "124            833         523         551\n",
       "125            830         489         572\n",
       "\n",
       "[126 rows x 3 columns]"
      ]
     },
     "execution_count": 17,
     "metadata": {},
     "output_type": "execute_result"
    }
   ],
   "source": [
    "recommendation_table"
   ]
  },
  {
   "cell_type": "markdown",
   "metadata": {},
   "source": [
    "# Выводы:\n",
    "В рамках проекта нашей задачей являлась **разработка реккомендательной системы** при которой можно будет предлагать клиентам интересные им курсы с целью повышения среднего чека.\n",
    "Как итог нужно было представить таблицу, в которой курсам будет соответствовать по **две рекомендации.**\n",
    "\n",
    "В ходе проекта я, проанализировав все данные, пришла к выводу, что **не все курсы продавались в паре** с другими продуктами. И что для таких пар необходимо записывать **пару курсов**(список уникальных топовых пар), которые хорошо продаются.  \n",
    "Также есть курсы, которые за все время имели только **одну пару** и курсы, которые парами встречались **очень редко**, для таких случаев в реккомендациии записывались **курсы** (список уникальных топовых курсов), которые хорошо продаются.\n",
    "\n",
    "Таким образом, на мой взгляд, мы удовлетворим запрос менеджера по увеличению среднего чека и не быть \"артистом одной песни\" (в реккомендации записывались курсы, которые встречались парой от 5 раз)"
   ]
  }
 ],
 "metadata": {
  "kernelspec": {
   "display_name": "Python 3 (ipykernel)",
   "language": "python",
   "name": "python3"
  },
  "language_info": {
   "codemirror_mode": {
    "name": "ipython",
    "version": 3
   },
   "file_extension": ".py",
   "mimetype": "text/x-python",
   "name": "python",
   "nbconvert_exporter": "python",
   "pygments_lexer": "ipython3",
   "version": "3.11.4"
  }
 },
 "nbformat": 4,
 "nbformat_minor": 4
}
